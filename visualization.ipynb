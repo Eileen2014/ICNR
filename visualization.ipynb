{
 "cells": [
  {
   "cell_type": "code",
   "execution_count": 1,
   "metadata": {
    "collapsed": false
   },
   "outputs": [],
   "source": [
    "import tensorflow as tf\n",
    "from icnr import ICNR\n",
    "config = tf.ConfigProto()\n",
    "config.gpu_options.per_process_gpu_memory_fraction = 0.2\n",
    "import matplotlib.pyplot as plt\n",
    "%matplotlib inline"
   ]
  },
  {
   "cell_type": "code",
   "execution_count": 2,
   "metadata": {
    "collapsed": true
   },
   "outputs": [],
   "source": [
    "tf.reset_default_graph()\n",
    "sess = tf.InteractiveSession()"
   ]
  },
  {
   "cell_type": "code",
   "execution_count": 3,
   "metadata": {
    "collapsed": true
   },
   "outputs": [],
   "source": [
    "def renorm(a):\n",
    "    std = 255.0/(a.max() - a.min())\n",
    "    return (a - a.min())*std\n",
    "\n",
    "def prepare(w):\n",
    "    t = tf.transpose(w, perm = [2, 0, 1, 3] )\n",
    "    t = tf.depth_to_space(t, 2)[0,:,:,:3]\n",
    "    return t"
   ]
  },
  {
   "cell_type": "code",
   "execution_count": 4,
   "metadata": {
    "collapsed": false
   },
   "outputs": [],
   "source": [
    "w = tf.glorot_normal_initializer()(shape=[5,5,32,64], dtype=tf.float32)\n",
    "w_icnr = ICNR(tf.glorot_normal_initializer(), scale=2)(shape=[5,5,32,64], dtype=tf.float32)"
   ]
  },
  {
   "cell_type": "code",
   "execution_count": 5,
   "metadata": {
    "collapsed": false
   },
   "outputs": [
    {
     "data": {
      "text/plain": [
       "<matplotlib.text.Text at 0x7f3dc81fd650>"
      ]
     },
     "execution_count": 5,
     "metadata": {},
     "output_type": "execute_result"
    },
    {
     "data": {
      "image/png": "[encoded data removed]",
      "text/plain": [
       "<matplotlib.figure.Figure at 0x7f3dc82e3bd0>"
      ]
     },
     "metadata": {},
     "output_type": "display_data"
    }
   ],
   "source": [
    "w1 = renorm(prepare(w).eval())\n",
    "w2 = renorm(prepare(w_icnr).eval())\n",
    "plt.subplot(1,2,1)\n",
    "plt.imshow(w1, interpolation='nearest')\n",
    "plt.title(\"glorot init\")\n",
    "plt.subplot(1,2,2)\n",
    "plt.imshow(w2, interpolation='nearest')\n",
    "plt.title(\"ICNR glorot init\")"
   ]
  }
 ],
 "metadata": {
  "kernelspec": {
   "display_name": "Python 2",
   "language": "python",
   "name": "python2"
  },
  "language_info": {
   "codemirror_mode": {
    "name": "ipython",
    "version": 2
   },
   "file_extension": ".py",
   "mimetype": "text/x-python",
   "name": "python",
   "nbconvert_exporter": "python",
   "pygments_lexer": "ipython2",
   "version": "2.7.11+"
  }
 },
 "nbformat": 4,
 "nbformat_minor": 0
}
